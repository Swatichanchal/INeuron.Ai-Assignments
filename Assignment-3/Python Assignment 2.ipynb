{
 "cells": [
  {
   "cell_type": "markdown",
   "metadata": {},
   "source": [
    "# Python Assignment 2"
   ]
  },
  {
   "cell_type": "markdown",
   "metadata": {},
   "source": [
    "1. **Create the below pattern using nested for loop in Python.**"
   ]
  },
  {
   "cell_type": "code",
   "execution_count": 30,
   "metadata": {},
   "outputs": [
    {
     "name": "stdout",
     "output_type": "stream",
     "text": [
      "*                   \n",
      "* *                 \n",
      "* * *               \n",
      "* * * *             \n",
      "* * * * *           \n",
      "* * * *             \n",
      "* * *               \n",
      "* *                 \n",
      "*                   \n"
     ]
    }
   ],
   "source": [
    "n = 10\n",
    "nos = 1\n",
    "space = n-1\n",
    "\n",
    "for cr in range(1 , n//2):\n",
    "    for cst in range(1 , nos+1):               \n",
    "        print('*' , end= \" \") \n",
    "        \n",
    "    for cst in range(1 , space+1):             \n",
    "            print(' ' , end=\" \")    \n",
    "    \n",
    "    nos +=1\n",
    "    space -=1\n",
    "    print() \n",
    "    \n",
    "for cr in range(n//2 , n):\n",
    "    for cst in range(1 , nos+1):            \n",
    "        print('*' , end= \" \") \n",
    "        \n",
    "    for cst in range(1 , space+1):          \n",
    "            print(' ' , end=\" \")\n",
    "            \n",
    "    nos -=1\n",
    "    space +=1\n",
    "    print()"
   ]
  },
  {
   "cell_type": "markdown",
   "metadata": {},
   "source": [
    "2. **Write a Python program to reverse a word after accepting the input from the user.**\n",
    "\n",
    "Input word: ineuron\n",
    "\n",
    "Output: norueni"
   ]
  },
  {
   "cell_type": "code",
   "execution_count": 36,
   "metadata": {},
   "outputs": [
    {
     "name": "stdout",
     "output_type": "stream",
     "text": [
      "ineuron\n",
      "norueni\n"
     ]
    }
   ],
   "source": [
    "input_word = input()\n",
    "output = input_word[-1::-1]\n",
    "print(output)"
   ]
  },
  {
   "cell_type": "code",
   "execution_count": null,
   "metadata": {},
   "outputs": [],
   "source": []
  }
 ],
 "metadata": {
  "kernelspec": {
   "display_name": "Python 3",
   "language": "python",
   "name": "python3"
  },
  "language_info": {
   "codemirror_mode": {
    "name": "ipython",
    "version": 3
   },
   "file_extension": ".py",
   "mimetype": "text/x-python",
   "name": "python",
   "nbconvert_exporter": "python",
   "pygments_lexer": "ipython3",
   "version": "3.7.6"
  }
 },
 "nbformat": 4,
 "nbformat_minor": 4
}
